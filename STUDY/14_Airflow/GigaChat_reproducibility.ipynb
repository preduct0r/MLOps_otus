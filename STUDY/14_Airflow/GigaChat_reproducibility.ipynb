{
 "cells": [
  {
   "cell_type": "code",
   "execution_count": 3,
   "id": "91f257e2-baa0-450e-b535-8fea7991ba52",
   "metadata": {},
   "outputs": [
    {
     "name": "stderr",
     "output_type": "stream",
     "text": [
      "/home/den/anaconda3/envs/peft/lib/python3.11/site-packages/tqdm/auto.py:21: TqdmWarning: IProgress not found. Please update jupyter and ipywidgets. See https://ipywidgets.readthedocs.io/en/stable/user_install.html\n",
      "  from .autonotebook import tqdm as notebook_tqdm\n"
     ]
    }
   ],
   "source": [
    "import requests\n",
    "from pathlib import Path\n",
    "import pandas as pd\n",
    "\n",
    "import datasets\n",
    "from datasets import Dataset, DatasetDict, concatenate_datasets"
   ]
  },
  {
   "cell_type": "code",
   "execution_count": 4,
   "id": "5a9049b7-cfa1-4ae2-9f63-fbe44ed0bf89",
   "metadata": {},
   "outputs": [],
   "source": [
    "login = \"patrick\"\n",
    "password = \"PtisvGiL79we\"\n",
    "response_token = requests.post('https://beta.saluteai.sberdevices.ru/v1/token', auth=(login, password))\n",
    "token = response_token.json()['tok']\n",
    "headers = {'Authorization': f'Bearer {token}'}"
   ]
  },
  {
   "cell_type": "markdown",
   "id": "55f34ee1",
   "metadata": {},
   "source": [
    "## ==================="
   ]
  },
  {
   "cell_type": "code",
   "execution_count": 83,
   "id": "9419356f",
   "metadata": {},
   "outputs": [],
   "source": [
    "TEST_DIR = Path(\"/home/kotov-d@ad.speechpro.com/projects/code_dump/kotov/llms/test_cases/tests\")\n",
    "\n",
    "# DATA_PATH = Path(\"/mnt/cs/nlu/temp-datasets/0000_LLMs/rzd/test_datasets/chunks/txt_noTitles_noShortChunks/txt_max500_overlap0\")"
   ]
  },
  {
   "cell_type": "markdown",
   "id": "00a23ece",
   "metadata": {},
   "source": [
    "## ==================="
   ]
  },
  {
   "cell_type": "code",
   "execution_count": 118,
   "id": "88d1dec7",
   "metadata": {},
   "outputs": [],
   "source": [
    "testcases_path = TEST_DIR.joinpath(\"mosmetro_testcases.xlsx\")\n",
    "prompt_path = TEST_DIR.joinpath(\"mosmetro_prompt.txt\")\n",
    "excel_path = TEST_DIR.joinpath(\"mosmetro_hand_tests_semantic.xlsx\")"
   ]
  },
  {
   "cell_type": "code",
   "execution_count": 119,
   "id": "1d2d2987",
   "metadata": {},
   "outputs": [
    {
     "data": {
      "text/html": [
       "<div>\n",
       "<style scoped>\n",
       "    .dataframe tbody tr th:only-of-type {\n",
       "        vertical-align: middle;\n",
       "    }\n",
       "\n",
       "    .dataframe tbody tr th {\n",
       "        vertical-align: top;\n",
       "    }\n",
       "\n",
       "    .dataframe thead th {\n",
       "        text-align: right;\n",
       "    }\n",
       "</style>\n",
       "<table border=\"1\" class=\"dataframe\">\n",
       "  <thead>\n",
       "    <tr style=\"text-align: right;\">\n",
       "      <th></th>\n",
       "      <th>Кейс</th>\n",
       "      <th>Вопрос пользователя</th>\n",
       "      <th>Референсный ответ/документ</th>\n",
       "      <th>Чанк 1</th>\n",
       "      <th>Чанк 2</th>\n",
       "      <th>Чанк 3</th>\n",
       "      <th>Чанк 4</th>\n",
       "      <th>Ответ модели</th>\n",
       "      <th>0</th>\n",
       "      <th>1</th>\n",
       "      <th>2</th>\n",
       "      <th>3</th>\n",
       "      <th>4</th>\n",
       "      <th>Итог</th>\n",
       "    </tr>\n",
       "  </thead>\n",
       "  <tbody>\n",
       "    <tr>\n",
       "      <th>0</th>\n",
       "      <td>1</td>\n",
       "      <td>Я плачу картой и думаю попробовать биометрию. ...</td>\n",
       "      <td>Оплачивать проезд биометрией дешевле и удобнее...</td>\n",
       "      <td>16.7-16 Face Pay в приложении «Московский тран...</td>\n",
       "      <td>16.7-16-1 Как отключить Face Pay в приложении ...</td>\n",
       "      <td>18.2-1-1 Покупка билета на аэроэкспресс Одинцо...</td>\n",
       "      <td>16.7-14-1 Привязка банковской карты в приложен...</td>\n",
       "      <td>Если вы планируете часто пользоваться метро и ...</td>\n",
       "      <td>NaN</td>\n",
       "      <td>NaN</td>\n",
       "      <td>NaN</td>\n",
       "      <td>NaN</td>\n",
       "      <td>NaN</td>\n",
       "      <td>NaN</td>\n",
       "    </tr>\n",
       "  </tbody>\n",
       "</table>\n",
       "</div>"
      ],
      "text/plain": [
       "   Кейс                                Вопрос пользователя  \\\n",
       "0     1  Я плачу картой и думаю попробовать биометрию. ...   \n",
       "\n",
       "                          Референсный ответ/документ  \\\n",
       "0  Оплачивать проезд биометрией дешевле и удобнее...   \n",
       "\n",
       "                                              Чанк 1  \\\n",
       "0  16.7-16 Face Pay в приложении «Московский тран...   \n",
       "\n",
       "                                              Чанк 2  \\\n",
       "0  16.7-16-1 Как отключить Face Pay в приложении ...   \n",
       "\n",
       "                                              Чанк 3  \\\n",
       "0  18.2-1-1 Покупка билета на аэроэкспресс Одинцо...   \n",
       "\n",
       "                                              Чанк 4  \\\n",
       "0  16.7-14-1 Привязка банковской карты в приложен...   \n",
       "\n",
       "                                        Ответ модели   0   1   2   3   4  Итог  \n",
       "0  Если вы планируете часто пользоваться метро и ... NaN NaN NaN NaN NaN   NaN  "
      ]
     },
     "execution_count": 119,
     "metadata": {},
     "output_type": "execute_result"
    }
   ],
   "source": [
    "testcases = pd.read_excel(excel_path)\n",
    "testcases.head(1)"
   ]
  },
  {
   "cell_type": "code",
   "execution_count": 111,
   "id": "31988616",
   "metadata": {},
   "outputs": [
    {
     "data": {
      "text/plain": [
       "Index(['Кейс', 'Вопрос пользователя', 'Референсный ответ/документ', 'Чанк 1',\n",
       "       'Чанк 2', 'Чанк 3', 'Чанк 4', 'Ответ модели', '0', '1', '2', '3', '4',\n",
       "       'Итог'],\n",
       "      dtype='object')"
      ]
     },
     "execution_count": 111,
     "metadata": {},
     "output_type": "execute_result"
    }
   ],
   "source": [
    "testcases.columns"
   ]
  },
  {
   "cell_type": "code",
   "execution_count": 11,
   "id": "72502e7e-7d62-49c3-bea7-eed7227ebc52",
   "metadata": {},
   "outputs": [
    {
     "name": "stdout",
     "output_type": "stream",
     "text": [
      "<Response [404]>\n"
     ]
    }
   ],
   "source": [
    "TEMPERATURE, TOP_P = None, None\n",
    "\n",
    "NUM = 3\n",
    "\n",
    "# TOP_P = 0\n",
    "# # TOP_P = 1\n",
    "\n",
    "TEMPERATURE = 1e-08\n",
    "TEMPERATURE = 1\n",
    "\n",
    "\n",
    "\n",
    "messages = [\n",
    "    {\"role\": \"system\", \"content\": \"\"},  # prompt\n",
    "    {\"role\": \"user\", \"content\": \"Скажи привет\"}   # query\n",
    "]\n",
    "\n",
    "data = {\n",
    "    \"model\": \"GigaChat-Pro\",  \n",
    "    \"messages\": messages, \n",
    "    # \"temperature\": TEMPERATURE,\n",
    "    \"top_p\": TOP_P,\n",
    "    \"n\": 2,     \n",
    "    \"max_tokens\": 1000,\n",
    "    \"repetition_penalty\": 1 # + other params: top_p (don't use with \"temperature\"), stream, stop, update_interval (Описание параметров см в \"API GigaChat_2.docx\" со страницы 4)\n",
    "}\n",
    "\n",
    "response = requests.post('https://beta.saluteai.sberdevices.ru/v1/chat/completions', headers = headers,  json = data)\n",
    "print(response)"
   ]
  },
  {
   "cell_type": "code",
   "execution_count": null,
   "id": "87ee680f-a1b0-4e4c-9eb3-dd1798111bb8",
   "metadata": {},
   "outputs": [],
   "source": []
  }
 ],
 "metadata": {
  "kernelspec": {
   "display_name": "Python 3 (ipykernel)",
   "language": "python",
   "name": "python3"
  },
  "language_info": {
   "codemirror_mode": {
    "name": "ipython",
    "version": 3
   },
   "file_extension": ".py",
   "mimetype": "text/x-python",
   "name": "python",
   "nbconvert_exporter": "python",
   "pygments_lexer": "ipython3",
   "version": "3.11.3"
  }
 },
 "nbformat": 4,
 "nbformat_minor": 5
}
