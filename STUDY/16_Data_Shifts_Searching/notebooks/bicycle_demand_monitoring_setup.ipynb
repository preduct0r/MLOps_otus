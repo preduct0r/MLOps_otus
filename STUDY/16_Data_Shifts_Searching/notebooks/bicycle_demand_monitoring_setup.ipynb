{
 "cells": [
  {
   "cell_type": "markdown",
   "metadata": {
    "id": "QgumzOZ5wgec",
    "pycharm": {
     "name": "#%% md\n"
    }
   },
   "source": [
    "# Monitoring setup for Bicycle Sharing Demand Prediction"
   ]
  },
  {
   "cell_type": "markdown",
   "metadata": {
    "id": "6eM1BMvDwgee",
    "pycharm": {
     "name": "#%% md\n"
    }
   },
   "source": [
    "This notebook shows how you can use the Evidently to:\n",
    "* calculate performance and data drift for the model, performed as batch checks \n",
    "* log models quality & data drift using MLflow Tracking\n",
    "* explore the result \n",
    "\n",
    "More examples are available in the github: https://github.com/evidentlyai/evidently/tree/main/examples\n",
    "\n",
    "Evidently docs: https://docs.evidentlyai.com/\n",
    "\n",
    "Join our Discord: https://discord.com/invite/xZjKRaNp8b"
   ]
  },
  {
   "cell_type": "code",
   "execution_count": 1,
   "metadata": {
    "id": "oDEk9bFNwgeh"
   },
   "outputs": [],
   "source": [
    "try:\n",
    "    import evidently\n",
    "except:\n",
    "    !pip install git+https://github.com/evidentlyai/evidently.git"
   ]
  },
  {
   "cell_type": "code",
   "execution_count": 2,
   "metadata": {
    "id": "rByuPhg7wgei",
    "pycharm": {
     "name": "#%%\n"
    }
   },
   "outputs": [],
   "source": [
    "import datetime\n",
    "import pandas as pd\n",
    "import numpy as np\n",
    "import requests\n",
    "import zipfile\n",
    "import io\n",
    "import json\n",
    "\n",
    "from sklearn import datasets, ensemble, model_selection\n",
    "from scipy.stats import anderson_ksamp\n",
    "\n",
    "from evidently.metrics import RegressionQualityMetric, RegressionErrorPlot, RegressionErrorDistribution\n",
    "from evidently.metric_preset import DataDriftPreset, RegressionPreset\n",
    "from evidently.pipeline.column_mapping import ColumnMapping\n",
    "from evidently.report import Report"
   ]
  },
  {
   "cell_type": "code",
   "execution_count": 3,
   "metadata": {
    "id": "HiiUl3p8wgej",
    "pycharm": {
     "name": "#%%\n"
    }
   },
   "outputs": [],
   "source": [
    "import warnings\n",
    "warnings.filterwarnings('ignore')\n",
    "warnings.simplefilter('ignore')"
   ]
  },
  {
   "cell_type": "markdown",
   "metadata": {
    "id": "zw5Tap_Xwgej",
    "pycharm": {
     "name": "#%% md\n"
    }
   },
   "source": [
    "## Bicycle Demand Data"
   ]
  },
  {
   "cell_type": "markdown",
   "metadata": {
    "id": "VqGH1Mr6wgej",
    "pycharm": {
     "name": "#%% md\n"
    }
   },
   "source": [
    "More information about the dataset can be found in UCI machine learning repository: https://archive.ics.uci.edu/ml/datasets/bike+sharing+dataset\n",
    "\n",
    "Acknowledgement: Fanaee-T, Hadi, and Gama, Joao, 'Event labeling combining ensemble detectors and background knowledge', Progress in Artificial Intelligence (2013): pp. 1-15, Springer Berlin Heidelberg"
   ]
  },
  {
   "cell_type": "code",
   "execution_count": 4,
   "metadata": {
    "id": "dKX2YV19wgek",
    "pycharm": {
     "name": "#%%\n"
    }
   },
   "outputs": [],
   "source": [
    "content = requests.get(\"https://archive.ics.uci.edu/static/public/275/bike+sharing+dataset.zip\").content\n",
    "with zipfile.ZipFile(io.BytesIO(content)) as arc:\n",
    "    raw_data = pd.read_csv(arc.open(\"hour.csv\"), header=0, sep=',', parse_dates=['dteday']) "
   ]
  },
  {
   "cell_type": "code",
   "execution_count": 5,
   "metadata": {
    "id": "36Gk-YMhwgek",
    "pycharm": {
     "name": "#%%\n"
    }
   },
   "outputs": [],
   "source": [
    "raw_data.index = raw_data.apply(lambda row: datetime.datetime.combine(row.dteday.date(), datetime.time(row.hr)),\n",
    "                                axis=1)"
   ]
  },
  {
   "cell_type": "code",
   "execution_count": 6,
   "metadata": {
    "id": "N6oQxQKNwgek",
    "pycharm": {
     "name": "#%%\n"
    }
   },
   "outputs": [
    {
     "data": {
      "text/html": [
       "<div>\n",
       "<style scoped>\n",
       "    .dataframe tbody tr th:only-of-type {\n",
       "        vertical-align: middle;\n",
       "    }\n",
       "\n",
       "    .dataframe tbody tr th {\n",
       "        vertical-align: top;\n",
       "    }\n",
       "\n",
       "    .dataframe thead th {\n",
       "        text-align: right;\n",
       "    }\n",
       "</style>\n",
       "<table border=\"1\" class=\"dataframe\">\n",
       "  <thead>\n",
       "    <tr style=\"text-align: right;\">\n",
       "      <th></th>\n",
       "      <th>instant</th>\n",
       "      <th>dteday</th>\n",
       "      <th>season</th>\n",
       "      <th>yr</th>\n",
       "      <th>mnth</th>\n",
       "      <th>hr</th>\n",
       "      <th>holiday</th>\n",
       "      <th>weekday</th>\n",
       "      <th>workingday</th>\n",
       "      <th>weathersit</th>\n",
       "      <th>temp</th>\n",
       "      <th>atemp</th>\n",
       "      <th>hum</th>\n",
       "      <th>windspeed</th>\n",
       "      <th>casual</th>\n",
       "      <th>registered</th>\n",
       "      <th>cnt</th>\n",
       "    </tr>\n",
       "  </thead>\n",
       "  <tbody>\n",
       "    <tr>\n",
       "      <th>2011-01-01 00:00:00</th>\n",
       "      <td>1</td>\n",
       "      <td>2011-01-01</td>\n",
       "      <td>1</td>\n",
       "      <td>0</td>\n",
       "      <td>1</td>\n",
       "      <td>0</td>\n",
       "      <td>0</td>\n",
       "      <td>6</td>\n",
       "      <td>0</td>\n",
       "      <td>1</td>\n",
       "      <td>0.24</td>\n",
       "      <td>0.2879</td>\n",
       "      <td>0.81</td>\n",
       "      <td>0.0</td>\n",
       "      <td>3</td>\n",
       "      <td>13</td>\n",
       "      <td>16</td>\n",
       "    </tr>\n",
       "    <tr>\n",
       "      <th>2011-01-01 01:00:00</th>\n",
       "      <td>2</td>\n",
       "      <td>2011-01-01</td>\n",
       "      <td>1</td>\n",
       "      <td>0</td>\n",
       "      <td>1</td>\n",
       "      <td>1</td>\n",
       "      <td>0</td>\n",
       "      <td>6</td>\n",
       "      <td>0</td>\n",
       "      <td>1</td>\n",
       "      <td>0.22</td>\n",
       "      <td>0.2727</td>\n",
       "      <td>0.80</td>\n",
       "      <td>0.0</td>\n",
       "      <td>8</td>\n",
       "      <td>32</td>\n",
       "      <td>40</td>\n",
       "    </tr>\n",
       "    <tr>\n",
       "      <th>2011-01-01 02:00:00</th>\n",
       "      <td>3</td>\n",
       "      <td>2011-01-01</td>\n",
       "      <td>1</td>\n",
       "      <td>0</td>\n",
       "      <td>1</td>\n",
       "      <td>2</td>\n",
       "      <td>0</td>\n",
       "      <td>6</td>\n",
       "      <td>0</td>\n",
       "      <td>1</td>\n",
       "      <td>0.22</td>\n",
       "      <td>0.2727</td>\n",
       "      <td>0.80</td>\n",
       "      <td>0.0</td>\n",
       "      <td>5</td>\n",
       "      <td>27</td>\n",
       "      <td>32</td>\n",
       "    </tr>\n",
       "    <tr>\n",
       "      <th>2011-01-01 03:00:00</th>\n",
       "      <td>4</td>\n",
       "      <td>2011-01-01</td>\n",
       "      <td>1</td>\n",
       "      <td>0</td>\n",
       "      <td>1</td>\n",
       "      <td>3</td>\n",
       "      <td>0</td>\n",
       "      <td>6</td>\n",
       "      <td>0</td>\n",
       "      <td>1</td>\n",
       "      <td>0.24</td>\n",
       "      <td>0.2879</td>\n",
       "      <td>0.75</td>\n",
       "      <td>0.0</td>\n",
       "      <td>3</td>\n",
       "      <td>10</td>\n",
       "      <td>13</td>\n",
       "    </tr>\n",
       "    <tr>\n",
       "      <th>2011-01-01 04:00:00</th>\n",
       "      <td>5</td>\n",
       "      <td>2011-01-01</td>\n",
       "      <td>1</td>\n",
       "      <td>0</td>\n",
       "      <td>1</td>\n",
       "      <td>4</td>\n",
       "      <td>0</td>\n",
       "      <td>6</td>\n",
       "      <td>0</td>\n",
       "      <td>1</td>\n",
       "      <td>0.24</td>\n",
       "      <td>0.2879</td>\n",
       "      <td>0.75</td>\n",
       "      <td>0.0</td>\n",
       "      <td>0</td>\n",
       "      <td>1</td>\n",
       "      <td>1</td>\n",
       "    </tr>\n",
       "  </tbody>\n",
       "</table>\n",
       "</div>"
      ],
      "text/plain": [
       "                     instant     dteday  season  yr  mnth  hr  holiday  \\\n",
       "2011-01-01 00:00:00        1 2011-01-01       1   0     1   0        0   \n",
       "2011-01-01 01:00:00        2 2011-01-01       1   0     1   1        0   \n",
       "2011-01-01 02:00:00        3 2011-01-01       1   0     1   2        0   \n",
       "2011-01-01 03:00:00        4 2011-01-01       1   0     1   3        0   \n",
       "2011-01-01 04:00:00        5 2011-01-01       1   0     1   4        0   \n",
       "\n",
       "                     weekday  workingday  weathersit  temp   atemp   hum  \\\n",
       "2011-01-01 00:00:00        6           0           1  0.24  0.2879  0.81   \n",
       "2011-01-01 01:00:00        6           0           1  0.22  0.2727  0.80   \n",
       "2011-01-01 02:00:00        6           0           1  0.22  0.2727  0.80   \n",
       "2011-01-01 03:00:00        6           0           1  0.24  0.2879  0.75   \n",
       "2011-01-01 04:00:00        6           0           1  0.24  0.2879  0.75   \n",
       "\n",
       "                     windspeed  casual  registered  cnt  \n",
       "2011-01-01 00:00:00        0.0       3          13   16  \n",
       "2011-01-01 01:00:00        0.0       8          32   40  \n",
       "2011-01-01 02:00:00        0.0       5          27   32  \n",
       "2011-01-01 03:00:00        0.0       3          10   13  \n",
       "2011-01-01 04:00:00        0.0       0           1    1  "
      ]
     },
     "execution_count": 6,
     "metadata": {},
     "output_type": "execute_result"
    }
   ],
   "source": [
    "raw_data.head()"
   ]
  },
  {
   "cell_type": "markdown",
   "metadata": {
    "id": "dhZOCJZ1wgel",
    "pycharm": {
     "name": "#%% md\n"
    }
   },
   "source": [
    "## Model training "
   ]
  },
  {
   "cell_type": "code",
   "execution_count": 7,
   "metadata": {
    "id": "_i8edS6Ewgem",
    "pycharm": {
     "name": "#%%\n"
    }
   },
   "outputs": [],
   "source": [
    "target = 'cnt'\n",
    "prediction = 'prediction'\n",
    "numerical_features = ['temp', 'atemp', 'hum', 'windspeed', 'mnth', 'hr', 'weekday']\n",
    "categorical_features = ['season', 'holiday', 'workingday', ]#'weathersit']"
   ]
  },
  {
   "cell_type": "code",
   "execution_count": 8,
   "metadata": {
    "id": "vTMu0TS_wgem",
    "pycharm": {
     "name": "#%%\n"
    }
   },
   "outputs": [],
   "source": [
    "reference = raw_data.loc['2011-01-01 00:00:00':'2011-01-28 23:00:00']\n",
    "current = raw_data.loc['2011-01-29 00:00:00':'2011-02-28 23:00:00']"
   ]
  },
  {
   "cell_type": "code",
   "execution_count": 9,
   "metadata": {
    "id": "dqiRpf2Swgem",
    "pycharm": {
     "name": "#%%\n"
    }
   },
   "outputs": [],
   "source": [
    "X_train, X_test, y_train, y_test = model_selection.train_test_split(\n",
    "    reference[numerical_features + categorical_features],\n",
    "    reference[target],\n",
    "    test_size=0.3\n",
    ")"
   ]
  },
  {
   "cell_type": "code",
   "execution_count": 10,
   "metadata": {
    "id": "PWJv-0UKwgen",
    "pycharm": {
     "name": "#%%\n"
    }
   },
   "outputs": [],
   "source": [
    "regressor = ensemble.RandomForestRegressor(random_state = 0, n_estimators = 50)"
   ]
  },
  {
   "cell_type": "code",
   "execution_count": 11,
   "metadata": {
    "id": "UOWSxRh1wgen",
    "pycharm": {
     "name": "#%%\n"
    }
   },
   "outputs": [
    {
     "data": {
      "text/plain": [
       "RandomForestRegressor(n_estimators=50, random_state=0)"
      ]
     },
     "execution_count": 11,
     "metadata": {},
     "output_type": "execute_result"
    }
   ],
   "source": [
    "regressor.fit(X_train, y_train)"
   ]
  },
  {
   "cell_type": "code",
   "execution_count": 12,
   "metadata": {
    "id": "TZKZ_biHwgen",
    "pycharm": {
     "name": "#%%\n"
    }
   },
   "outputs": [],
   "source": [
    "preds_train = regressor.predict(X_train)\n",
    "preds_test = regressor.predict(X_test)"
   ]
  },
  {
   "cell_type": "markdown",
   "metadata": {
    "id": "pRV2_SNSwgen",
    "pycharm": {
     "name": "#%% md\n"
    }
   },
   "source": [
    "## Model validation"
   ]
  },
  {
   "cell_type": "code",
   "execution_count": 13,
   "metadata": {
    "id": "JcEFJgEswgeo",
    "pycharm": {
     "name": "#%%\n"
    }
   },
   "outputs": [],
   "source": [
    "X_train['target'] = y_train\n",
    "X_train['prediction'] = preds_train\n",
    "\n",
    "X_test['target'] = y_test\n",
    "X_test['prediction'] = preds_test"
   ]
  },
  {
   "cell_type": "code",
   "execution_count": 14,
   "metadata": {
    "id": "wEhoX-Xcwgeo",
    "pycharm": {
     "name": "#%%\n"
    }
   },
   "outputs": [],
   "source": [
    "column_mapping = ColumnMapping()\n",
    "\n",
    "column_mapping.target = 'target'\n",
    "column_mapping.prediction = 'prediction'\n",
    "column_mapping.numerical_features = numerical_features\n",
    "column_mapping.categorical_features = categorical_features"
   ]
  },
  {
   "cell_type": "code",
   "execution_count": 15,
   "metadata": {
    "id": "iQk44skSwgeo"
   },
   "outputs": [],
   "source": [
    "regression_performance_report = Report(metrics=[\n",
    "    RegressionPreset(),\n",
    "])\n",
    "\n",
    "regression_performance_report.run(reference_data=X_train.sort_index(), current_data=X_test.sort_index(),\n",
    "                                  column_mapping=column_mapping)\n",
    "regression_performance_report.save_html(\"regression_performance_report.html\")"
   ]
  },
  {
   "cell_type": "markdown",
   "metadata": {
    "id": "r4QPdp17wgeo",
    "pycharm": {
     "name": "#%% md\n"
    }
   },
   "source": [
    "## Production model training"
   ]
  },
  {
   "cell_type": "code",
   "execution_count": 16,
   "metadata": {
    "id": "9u3zyR-bwgep",
    "pycharm": {
     "name": "#%%\n"
    }
   },
   "outputs": [
    {
     "data": {
      "text/plain": [
       "RandomForestRegressor(n_estimators=50, random_state=0)"
      ]
     },
     "execution_count": 16,
     "metadata": {},
     "output_type": "execute_result"
    }
   ],
   "source": [
    "regressor.fit(reference[numerical_features + categorical_features], reference[target])"
   ]
  },
  {
   "cell_type": "code",
   "execution_count": 17,
   "metadata": {
    "id": "qH5FK4x8wgep",
    "pycharm": {
     "name": "#%%\n"
    }
   },
   "outputs": [],
   "source": [
    "column_mapping = ColumnMapping()\n",
    "\n",
    "column_mapping.target = target\n",
    "column_mapping.prediction = prediction\n",
    "column_mapping.numerical_features = numerical_features\n",
    "column_mapping.categorical_features = categorical_features"
   ]
  },
  {
   "cell_type": "code",
   "execution_count": 18,
   "metadata": {
    "id": "vTCmG4Ntwgeq",
    "pycharm": {
     "name": "#%%\n"
    }
   },
   "outputs": [],
   "source": [
    "ref_prediction = regressor.predict(reference[numerical_features + categorical_features])\n",
    "reference['prediction'] = ref_prediction"
   ]
  },
  {
   "cell_type": "code",
   "execution_count": 19,
   "metadata": {
    "id": "uV1kyj3Owgeq"
   },
   "outputs": [],
   "source": [
    "regression_performance_report = Report(metrics=[\n",
    "    RegressionPreset(),\n",
    "])\n",
    "\n",
    "regression_performance_report.run(reference_data=None, current_data=reference,\n",
    "                                  column_mapping=column_mapping)\n",
    "regression_performance_report.save_html(\"regression_performance_report.html\")"
   ]
  },
  {
   "cell_type": "markdown",
   "metadata": {
    "id": "2rJyfTJ3wger",
    "pycharm": {
     "name": "#%% md\n"
    }
   },
   "source": [
    "## Some time has passed - how is the model working?"
   ]
  },
  {
   "cell_type": "code",
   "execution_count": 20,
   "metadata": {
    "id": "TqljYICLwger",
    "pycharm": {
     "name": "#%%\n"
    }
   },
   "outputs": [],
   "source": [
    "current_prediction = regressor.predict(current[numerical_features + categorical_features])\n",
    "current['prediction'] = current_prediction"
   ]
  },
  {
   "cell_type": "markdown",
   "metadata": {
    "id": "7eBBRAOTwger",
    "pycharm": {
     "name": "#%% md\n"
    }
   },
   "source": [
    "### Week 1"
   ]
  },
  {
   "cell_type": "code",
   "execution_count": 21,
   "metadata": {
    "id": "LvuPle_Nwges"
   },
   "outputs": [],
   "source": [
    "regression_performance_report.run(reference_data=reference, current_data=current.loc['2011-01-29 00:00:00':'2011-02-07 23:00:00'],\n",
    "                                  column_mapping=column_mapping)\n",
    "regression_performance_report.save_html(\"regression_performance_report_week1.html\")"
   ]
  },
  {
   "cell_type": "markdown",
   "metadata": {
    "id": "SbmG0hvSwges",
    "pycharm": {
     "name": "#%% md\n"
    }
   },
   "source": [
    "### Week 2"
   ]
  },
  {
   "cell_type": "code",
   "execution_count": 22,
   "metadata": {
    "id": "d6tBIZDUwget",
    "pycharm": {
     "name": "#%%\n"
    },
    "scrolled": false
   },
   "outputs": [],
   "source": [
    "regression_performance_report = Report(metrics=[\n",
    "    RegressionQualityMetric(),\n",
    "    RegressionErrorPlot(),\n",
    "    RegressionErrorDistribution()\n",
    "])\n",
    "\n",
    "regression_performance_report.run(reference_data=reference, current_data=current.loc['2011-02-07 00:00:00':'2011-02-14 23:00:00'], \n",
    "                                            column_mapping=column_mapping)\n",
    "regression_performance_report.save_html(\"regression_performance_report_week2.html\")"
   ]
  },
  {
   "cell_type": "markdown",
   "metadata": {
    "id": "Zj3AHeU-wget",
    "pycharm": {
     "name": "#%% md\n"
    }
   },
   "source": [
    "### Week 3"
   ]
  },
  {
   "cell_type": "code",
   "execution_count": 23,
   "metadata": {
    "id": "LF6ZFyx_wgeu",
    "pycharm": {
     "name": "#%%\n"
    }
   },
   "outputs": [],
   "source": [
    "regression_performance_report = Report(metrics=[\n",
    "    RegressionQualityMetric(),\n",
    "    RegressionErrorPlot(),\n",
    "    RegressionErrorDistribution()\n",
    "])\n",
    "\n",
    "regression_performance_report.run(reference_data=reference, current_data=current.loc['2011-02-15 00:00:00':'2011-02-21 23:00:00'], \n",
    "                                            column_mapping=column_mapping)\n",
    "regression_performance_report.save_html(\"regression_performance_report_week3.html\")"
   ]
  },
  {
   "cell_type": "markdown",
   "metadata": {
    "id": "sFeB72oIwgev",
    "pycharm": {
     "name": "#%% md\n"
    }
   },
   "source": [
    "## Why the quality has dropped?"
   ]
  },
  {
   "cell_type": "code",
   "execution_count": 24,
   "metadata": {
    "id": "ubmWrELOwgev",
    "pycharm": {
     "name": "#%%\n"
    }
   },
   "outputs": [],
   "source": [
    "column_mapping_drift = ColumnMapping()\n",
    "\n",
    "column_mapping_drift.target = target\n",
    "column_mapping_drift.prediction = prediction\n",
    "column_mapping_drift.numerical_features = numerical_features\n",
    "column_mapping_drift.categorical_features = []"
   ]
  },
  {
   "cell_type": "code",
   "execution_count": 25,
   "metadata": {
    "id": "Uz1ajc22wgew"
   },
   "outputs": [],
   "source": [
    "data_drift_report = Report(metrics=[\n",
    "    DataDriftPreset(),\n",
    "])\n",
    "\n",
    "data_drift_report.run(\n",
    "    reference_data=reference,\n",
    "    current_data=current.loc['2011-02-14 00:00:00':'2011-02-21 23:00:00'],\n",
    "    column_mapping=column_mapping_drift,\n",
    ")\n",
    "data_drift_report.save_html(\"data_drift_report.html\")"
   ]
  },
  {
   "cell_type": "markdown",
   "metadata": {
    "id": "-4S20imIwgew",
    "pycharm": {
     "name": "#%% md\n"
    }
   },
   "source": [
    "## Let's customize the report!"
   ]
  },
  {
   "cell_type": "code",
   "execution_count": 26,
   "metadata": {
    "id": "zJWuGbzdwgew",
    "pycharm": {
     "name": "#%%\n"
    }
   },
   "outputs": [],
   "source": [
    "from evidently.calculations.stattests import StatTest\n",
    "\n",
    "def _anderson_stat_test(reference_data: pd.Series, current_data: pd.Series, feature_type: str, threshold: float):\n",
    "    p_value = anderson_ksamp(np.array([reference_data, current_data]))[2]\n",
    "    return p_value, p_value < threshold\n",
    "\n",
    "anderson_stat_test = StatTest(\n",
    "    name=\"anderson\",\n",
    "    display_name=\"Anderson test (p_value)\",\n",
    "    func=_anderson_stat_test,\n",
    "    allowed_feature_types=[\"num\"]\n",
    ")\n",
    "\n",
    "# options = DataDriftOptions(feature_stattest_func=anderson_stat_test, all_features_threshold=0.9, nbinsx=20)"
   ]
  },
  {
   "cell_type": "code",
   "execution_count": 27,
   "metadata": {
    "id": "EDqb_S9Xwgex"
   },
   "outputs": [],
   "source": [
    "the_report = Report(metrics=[\n",
    "    RegressionQualityMetric(),\n",
    "    RegressionErrorPlot(),\n",
    "    RegressionErrorDistribution(),\n",
    "    DataDriftPreset(stattest=anderson_stat_test, stattest_threshold=0.9),\n",
    "])\n",
    "\n",
    "\n",
    "the_report.run(\n",
    "    reference_data=reference,\n",
    "    current_data=current.loc['2011-02-14 00:00:00':'2011-02-21 23:00:00'], \n",
    "    column_mapping=column_mapping_drift\n",
    ")\n",
    "the_report.save_html(\"customized_report.html\")"
   ]
  },
  {
   "cell_type": "markdown",
   "metadata": {
    "id": "q5lW24Xzwgex",
    "pycharm": {
     "name": "#%% md\n"
    }
   },
   "source": [
    "## Jupyter vs Automated Run?"
   ]
  },
  {
   "cell_type": "markdown",
   "metadata": {
    "id": "p-80D3Bbwgex",
    "pycharm": {
     "name": "#%% md\n"
    }
   },
   "source": [
    "To run this part of the tutorial you need to install MLflow (if not installed yet)\n",
    "\n",
    "You can install MLflow with the following command: `pip install mlflow` or install MLflow with scikit-learn via `pip install mlflow[extras]`\n",
    "\n",
    "More details:https://mlflow.org/docs/latest/tutorials-and-examples/tutorial.html#id5"
   ]
  },
  {
   "cell_type": "code",
   "execution_count": 28,
   "metadata": {
    "id": "bUoXVw40AKWj"
   },
   "outputs": [],
   "source": [
    "try:\n",
    "    import mlflow\n",
    "except:\n",
    "    !pip install mlflow"
   ]
  },
  {
   "cell_type": "code",
   "execution_count": 29,
   "metadata": {
    "id": "I_IyYlM0wgey",
    "pycharm": {
     "name": "#%%\n"
    }
   },
   "outputs": [],
   "source": [
    "import mlflow\n",
    "#import mlflow.sklearn\n",
    "from mlflow.tracking import MlflowClient"
   ]
  },
  {
   "cell_type": "code",
   "execution_count": 30,
   "metadata": {
    "id": "L6PKtAGEwgey",
    "pycharm": {
     "name": "#%%\n"
    }
   },
   "outputs": [],
   "source": [
    "experiment_batches = [\n",
    "    ('2011-01-29 00:00:00','2011-02-07 23:00:00'),\n",
    "    ('2011-02-07 00:00:00','2011-02-14 23:00:00'),\n",
    "    ('2011-02-15 00:00:00','2011-02-21 23:00:00'),  \n",
    "]"
   ]
  },
  {
   "cell_type": "code",
   "execution_count": 31,
   "metadata": {
    "id": "nHegk6fAwgey",
    "pycharm": {
     "name": "#%%\n"
    }
   },
   "outputs": [],
   "source": [
    "the_report = Report(metrics=[\n",
    "    RegressionQualityMetric(),\n",
    "    RegressionErrorPlot(),\n",
    "    RegressionErrorDistribution(),\n",
    "    DataDriftPreset(stattest=anderson_stat_test, stattest_threshold=0.9),\n",
    "])\n",
    "\n",
    "the_report.run(\n",
    "    reference_data=reference, \n",
    "    current_data=current.loc[experiment_batches[0][0]:experiment_batches[0][1]],\n",
    "    column_mapping=column_mapping_drift\n",
    ")"
   ]
  },
  {
   "cell_type": "code",
   "execution_count": 32,
   "metadata": {
    "id": "qMD5Ek7-wgey",
    "pycharm": {
     "name": "#%%\n"
    },
    "scrolled": false
   },
   "outputs": [],
   "source": [
    "logged_json = json.loads(the_report.json())"
   ]
  },
  {
   "cell_type": "code",
   "execution_count": 33,
   "metadata": {
    "id": "xwOcfczR-b6d"
   },
   "outputs": [
    {
     "data": {
      "text/plain": [
       "{'version': '0.4.7',\n",
       " 'metrics': [{'metric': 'RegressionQualityMetric',\n",
       "   'result': {'columns': {'utility_columns': {'date': None,\n",
       "      'id': None,\n",
       "      'target': 'cnt',\n",
       "      'prediction': 'prediction'},\n",
       "     'num_feature_names': ['atemp',\n",
       "      'hr',\n",
       "      'hum',\n",
       "      'mnth',\n",
       "      'temp',\n",
       "      'weekday',\n",
       "      'windspeed'],\n",
       "     'cat_feature_names': [],\n",
       "     'text_feature_names': [],\n",
       "     'datetime_feature_names': ['dteday'],\n",
       "     'target_names': None},\n",
       "    'current': {'r2_score': 0.8342907435814624,\n",
       "     'rmse': 21.03964953999846,\n",
       "     'mean_error': -6.26536170212766,\n",
       "     'mean_abs_error': 13.52936170212766,\n",
       "     'mean_abs_perc_error': 41.57714593080225,\n",
       "     'abs_error_max': 94.34,\n",
       "     'underperformance': {'majority': {'mean_error': -4.857251184834124,\n",
       "       'std_error': 12.75642799788315},\n",
       "      'underestimation': {'mean_error': -65.01666666666665,\n",
       "       'std_error': 19.82673462929804},\n",
       "      'overestimation': {'mean_error': 27.726666666666663,\n",
       "       'std_error': 7.390053921974924}},\n",
       "     'error_std': 20.127992419056696,\n",
       "     'abs_error_std': 16.147220369438536,\n",
       "     'abs_perc_error_std': 0.7564920711474925},\n",
       "    'reference': {'r2_score': 0.9834769538243223,\n",
       "     'rmse': 6.325250266867813,\n",
       "     'mean_error': -0.006019417475728246,\n",
       "     'mean_abs_error': 4.105695792880258,\n",
       "     'mean_abs_perc_error': 16.196696009106397,\n",
       "     'abs_error_max': 50.24000000000001,\n",
       "     'underperformance': {'majority': {'mean_error': 0.09179856115107903,\n",
       "       'std_error': 3.871470563870639},\n",
       "      'underestimation': {'mean_error': -15.78451612903226,\n",
       "       'std_error': 7.2438087765620836},\n",
       "      'overestimation': {'mean_error': 14.01806451612903,\n",
       "       'std_error': 5.810040401095813}},\n",
       "     'error_std': 6.3303711357227614,\n",
       "     'abs_error_std': 4.815555687720597,\n",
       "     'abs_perc_error_std': 0.3745560303071784},\n",
       "    'rmse_default': 51.6850709978823,\n",
       "    'me_default_sigma': 20.127992419056696,\n",
       "    'mean_abs_error_default': 39.306382978723406,\n",
       "    'mean_abs_perc_error_default': 87.51326425148629,\n",
       "    'abs_error_max_default': 178.0,\n",
       "    'error_normality': {'order_statistic_medians_x': [-2.7538189938710156,\n",
       "      -2.449714739690077,\n",
       "      -2.2768634150235667,\n",
       "      -2.1533418333286862,\n",
       "      -2.0559300047619073,\n",
       "      -1.9748365159914165,\n",
       "      -1.9049686700802415,\n",
       "      -1.8433249260789248,\n",
       "      -1.7879813049631479,\n",
       "      -1.73762753838407,\n",
       "      -1.6913294186264496,\n",
       "      -1.648396447695943,\n",
       "      -1.6083032251937766,\n",
       "      -1.5706402944370206,\n",
       "      -1.5350820903670248,\n",
       "      -1.5013652949760332,\n",
       "      -1.4692737813288654,\n",
       "      -1.43862787090961,\n",
       "      -1.4092764975546999,\n",
       "      -1.381091379935921,\n",
       "      -1.3539626130560194,\n",
       "      -1.327795282093446,\n",
       "      -1.3025068258054877,\n",
       "      -1.2780249581835106,\n",
       "      -1.2542860118173558,\n",
       "      -1.2312336039491334,\n",
       "      -1.2088175523615934,\n",
       "      -1.186992986784309,\n",
       "      -1.1657196148283637,\n",
       "      -1.1449611111707338,\n",
       "      -1.1246846058726283,\n",
       "      -1.1048602530605312,\n",
       "      -1.0854608652287587,\n",
       "      -1.0664616014912383,\n",
       "      -1.0478397004687405,\n",
       "      -1.029574250325968,\n",
       "      -1.0116459899014167,\n",
       "      -0.9940371359975515,\n",
       "      -0.9767312327905734,\n",
       "      -0.959713020030817,\n",
       "      -0.9429683172765501,\n",
       "      -0.926483921865912,\n",
       "      -0.9102475187071603,\n",
       "      -0.8942476002740826,\n",
       "      -0.8784733954452801,\n",
       "      -0.8629148060338302,\n",
       "      -0.8475623500260822,\n",
       "      -0.8324071106917443,\n",
       "      -0.8174406908473181,\n",
       "      -0.8026551716555713,\n",
       "      -0.7880430754285358,\n",
       "      -0.7735973319732383,\n",
       "      -0.7593112480802235,\n",
       "      -0.7451784798067513,\n",
       "      -0.7311930072508335,\n",
       "      -0.7173491115501911,\n",
       "      -0.7036413538728402,\n",
       "      -0.6900645561940997,\n",
       "      -0.6766137836791166,\n",
       "      -0.6632843285110499,\n",
       "      -0.6500716950233419,\n",
       "      -0.6369715860104432,\n",
       "      -0.6239798901052522,\n",
       "      -0.6110926701237143,\n",
       "      -0.5983061522876905,\n",
       "      -0.5856167162465893,\n",
       "      -0.573020885826515,\n",
       "      -0.5605153204429849,\n",
       "      -0.5480968071197035,\n",
       "      -0.5357622530616051,\n",
       "      -0.5235086787354374,\n",
       "      -0.5113332114156702,\n",
       "      -0.49923307915752263,\n",
       "      -0.48720560516248973,\n",
       "      -0.4752482025049414,\n",
       "      -0.4633583691912362,\n",
       "      -0.45153368352535245,\n",
       "      -0.43977179975734887,\n",
       "      -0.42807044399303207,\n",
       "      -0.41642741034507497,\n",
       "      -0.4048405573075054,\n",
       "      -0.3933078043370067,\n",
       "      -0.38182712862583224,\n",
       "      -0.3703965620523837,\n",
       "      -0.35901418829661513,\n",
       "      -0.34767814010845066,\n",
       "      -0.3363865967183205,\n",
       "      -0.3251377813797603,\n",
       "      -0.31392995903478077,\n",
       "      -0.30276143409340955,\n",
       "      -0.2916305483194372,\n",
       "      -0.2805356788149765,\n",
       "      -0.2694752360969695,\n",
       "      -0.25844766225925486,\n",
       "      -0.24745142921424887,\n",
       "      -0.23648503700869047,\n",
       "      -0.22554701220826853,\n",
       "      -0.21463590634628127,\n",
       "      -0.20375029443178733,\n",
       "      -0.19288877351298328,\n",
       "      -0.18204996129180034,\n",
       "      -0.171232494785944,\n",
       "      -0.1604350290348168,\n",
       "      -0.14965623584595522,\n",
       "      -0.13889480257879117,\n",
       "      -0.12814943096270764,\n",
       "      -0.11741883594650733,\n",
       "      -0.1067017445765424,\n",
       "      -0.09599689490087619,\n",
       "      -0.08530303489695143,\n",
       "      -0.07461892142034146,\n",
       "      -0.06394331917224101,\n",
       "      -0.05327499968343306,\n",
       "      -0.042612740312530144,\n",
       "      -0.03195532325635065,\n",
       "      -0.02130153457033326,\n",
       "      -0.010650163196936846,\n",
       "      0.0,\n",
       "      0.010650163196936846,\n",
       "      0.02130153457033326,\n",
       "      0.03195532325635051,\n",
       "      0.042612740312530005,\n",
       "      0.053274999683433195,\n",
       "      0.06394331917224115,\n",
       "      0.07461892142034146,\n",
       "      0.08530303489695143,\n",
       "      0.09599689490087619,\n",
       "      0.1067017445765424,\n",
       "      0.11741883594650719,\n",
       "      0.1281494309627075,\n",
       "      0.1388948025787913,\n",
       "      0.14965623584595536,\n",
       "      0.1604350290348168,\n",
       "      0.171232494785944,\n",
       "      0.18204996129180034,\n",
       "      0.19288877351298328,\n",
       "      0.2037502944317872,\n",
       "      0.21463590634628113,\n",
       "      0.22554701220826867,\n",
       "      0.2364850370086906,\n",
       "      0.24745142921424887,\n",
       "      0.25844766225925486,\n",
       "      0.2694752360969695,\n",
       "      0.2805356788149765,\n",
       "      0.2916305483194371,\n",
       "      0.3027614340934094,\n",
       "      0.3139299590347806,\n",
       "      0.32513778137976046,\n",
       "      0.3363865967183206,\n",
       "      0.34767814010845066,\n",
       "      0.35901418829661513,\n",
       "      0.3703965620523837,\n",
       "      0.38182712862583224,\n",
       "      0.3933078043370065,\n",
       "      0.40484055730750523,\n",
       "      0.4164274103450751,\n",
       "      0.42807044399303223,\n",
       "      0.43977179975734887,\n",
       "      0.45153368352535245,\n",
       "      0.4633583691912362,\n",
       "      0.4752482025049414,\n",
       "      0.4872056051624895,\n",
       "      0.49923307915752246,\n",
       "      0.5113332114156703,\n",
       "      0.5235086787354375,\n",
       "      0.5357622530616051,\n",
       "      0.5480968071197035,\n",
       "      0.5605153204429849,\n",
       "      0.573020885826515,\n",
       "      0.5856167162465891,\n",
       "      0.5983061522876904,\n",
       "      0.6110926701237143,\n",
       "      0.6239798901052522,\n",
       "      0.6369715860104432,\n",
       "      0.6500716950233419,\n",
       "      0.6632843285110496,\n",
       "      0.6766137836791164,\n",
       "      0.6900645561940995,\n",
       "      0.7036413538728399,\n",
       "      0.7173491115501909,\n",
       "      0.7311930072508335,\n",
       "      0.7451784798067513,\n",
       "      0.7593112480802235,\n",
       "      0.7735973319732383,\n",
       "      0.7880430754285358,\n",
       "      0.8026551716555712,\n",
       "      0.817440690847318,\n",
       "      0.8324071106917439,\n",
       "      0.8475623500260822,\n",
       "      0.8629148060338302,\n",
       "      0.8784733954452801,\n",
       "      0.8942476002740826,\n",
       "      0.9102475187071603,\n",
       "      0.9264839218659118,\n",
       "      0.9429683172765497,\n",
       "      0.9597130200308167,\n",
       "      0.9767312327905734,\n",
       "      0.9940371359975515,\n",
       "      1.0116459899014167,\n",
       "      1.029574250325968,\n",
       "      1.0478397004687405,\n",
       "      1.0664616014912387,\n",
       "      1.0854608652287585,\n",
       "      1.1048602530605307,\n",
       "      1.1246846058726276,\n",
       "      1.1449611111707338,\n",
       "      1.1657196148283637,\n",
       "      1.186992986784309,\n",
       "      1.2088175523615934,\n",
       "      1.2312336039491334,\n",
       "      1.2542860118173558,\n",
       "      1.2780249581835106,\n",
       "      1.3025068258054868,\n",
       "      1.3277952820934464,\n",
       "      1.3539626130560194,\n",
       "      1.381091379935921,\n",
       "      1.4092764975546999,\n",
       "      1.43862787090961,\n",
       "      1.4692737813288654,\n",
       "      1.5013652949760325,\n",
       "      1.5350820903670246,\n",
       "      1.5706402944370206,\n",
       "      1.6083032251937772,\n",
       "      1.648396447695943,\n",
       "      1.6913294186264496,\n",
       "      1.73762753838407,\n",
       "      1.7879813049631479,\n",
       "      1.843324926078924,\n",
       "      1.9049686700802404,\n",
       "      1.9748365159914152,\n",
       "      2.055930004761908,\n",
       "      2.1533418333286867,\n",
       "      2.2768634150235667,\n",
       "      2.449714739690076,\n",
       "      2.7538189938710156],\n",
       "     'order_statistic_medians_y': [-94.34,\n",
       "      -93.48,\n",
       "      -85.92,\n",
       "      -76.80000000000001,\n",
       "      -73.18,\n",
       "      -71.42,\n",
       "      -57.44,\n",
       "      -47.92,\n",
       "      -45.86,\n",
       "      -45.78,\n",
       "      -45.26,\n",
       "      -42.8,\n",
       "      -42.620000000000005,\n",
       "      -42.099999999999994,\n",
       "      -40.84,\n",
       "      -37.56,\n",
       "      -35.92,\n",
       "      -35.2,\n",
       "      -34.760000000000005,\n",
       "      -34.400000000000006,\n",
       "      -34.24,\n",
       "      -33.22,\n",
       "      -32.120000000000005,\n",
       "      -29.24,\n",
       "      -29.060000000000002,\n",
       "      -27.879999999999995,\n",
       "      -26.5,\n",
       "      -26.459999999999994,\n",
       "      -26.340000000000003,\n",
       "      -26.08,\n",
       "      -25.439999999999998,\n",
       "      -24.78,\n",
       "      -23.46,\n",
       "      -23.080000000000013,\n",
       "      -22.5,\n",
       "      -22.299999999999997,\n",
       "      -21.580000000000013,\n",
       "      -19.939999999999998,\n",
       "      -19.919999999999987,\n",
       "      -19.319999999999993,\n",
       "      -18.700000000000003,\n",
       "      -18.400000000000006,\n",
       "      -18.38,\n",
       "      -18.299999999999997,\n",
       "      -17.98,\n",
       "      -17.8,\n",
       "      -17.439999999999998,\n",
       "      -17.04,\n",
       "      -16.939999999999998,\n",
       "      -16.28,\n",
       "      -16.18,\n",
       "      -15.0,\n",
       "      -14.86,\n",
       "      -14.86,\n",
       "      -14.799999999999997,\n",
       "      -14.02,\n",
       "      -13.920000000000002,\n",
       "      -13.14,\n",
       "      -12.560000000000002,\n",
       "      -12.16,\n",
       "      -12.100000000000001,\n",
       "      -12.079999999999998,\n",
       "      -11.900000000000006,\n",
       "      -11.899999999999999,\n",
       "      -11.46,\n",
       "      -11.46,\n",
       "      -11.459999999999994,\n",
       "      -10.840000000000003,\n",
       "      -10.68,\n",
       "      -10.559999999999999,\n",
       "      -10.52,\n",
       "      -10.379999999999995,\n",
       "      -10.12,\n",
       "      -9.920000000000002,\n",
       "      -9.5,\n",
       "      -9.14,\n",
       "      -8.739999999999995,\n",
       "      -8.700000000000003,\n",
       "      -8.66,\n",
       "      -8.5,\n",
       "      -8.260000000000005,\n",
       "      -8.159999999999997,\n",
       "      -7.8799999999999955,\n",
       "      -7.700000000000003,\n",
       "      -7.439999999999998,\n",
       "      -6.960000000000001,\n",
       "      -6.739999999999995,\n",
       "      -6.620000000000001,\n",
       "      -6.3799999999999955,\n",
       "      -6.359999999999999,\n",
       "      -5.979999999999997,\n",
       "      -5.799999999999997,\n",
       "      -5.32,\n",
       "      -5.260000000000005,\n",
       "      -5.099999999999994,\n",
       "      -4.98,\n",
       "      -4.840000000000003,\n",
       "      -4.700000000000003,\n",
       "      -4.560000000000002,\n",
       "      -4.44,\n",
       "      -4.34,\n",
       "      -4.1,\n",
       "      -3.799999999999997,\n",
       "      -3.700000000000003,\n",
       "      -3.6599999999999966,\n",
       "      -3.58,\n",
       "      -3.4400000000000013,\n",
       "      -3.3999999999999986,\n",
       "      -3.3799999999999955,\n",
       "      -3.3599999999999994,\n",
       "      -3.34,\n",
       "      -3.1000000000000014,\n",
       "      -2.760000000000005,\n",
       "      -2.539999999999999,\n",
       "      -2.4599999999999937,\n",
       "      -2.3599999999999994,\n",
       "      -2.0,\n",
       "      -1.9000000000000004,\n",
       "      -1.8599999999999999,\n",
       "      -1.7000000000000028,\n",
       "      -1.7000000000000028,\n",
       "      -1.6600000000000001,\n",
       "      -1.3599999999999994,\n",
       "      -1.3399999999999999,\n",
       "      -1.3399999999999999,\n",
       "      -1.2600000000000051,\n",
       "      -1.2599999999999998,\n",
       "      -1.2200000000000006,\n",
       "      -1.1799999999999997,\n",
       "      -1.1400000000000006,\n",
       "      -1.0399999999999991,\n",
       "      -0.96,\n",
       "      -0.5600000000000005,\n",
       "      -0.56,\n",
       "      -0.3000000000000007,\n",
       "      -0.120000000000001,\n",
       "      -0.08000000000000007,\n",
       "      -0.06000000000000005,\n",
       "      -0.040000000000000036,\n",
       "      0.09999999999999964,\n",
       "      0.1999999999999993,\n",
       "      0.20000000000000284,\n",
       "      0.28,\n",
       "      0.48,\n",
       "      0.6400000000000001,\n",
       "      0.6799999999999997,\n",
       "      0.7,\n",
       "      0.7200000000000002,\n",
       "      1.0399999999999991,\n",
       "      1.06,\n",
       "      1.08,\n",
       "      1.2599999999999998,\n",
       "      1.3399999999999999,\n",
       "      1.38,\n",
       "      1.46,\n",
       "      1.5,\n",
       "      1.6,\n",
       "      1.6600000000000001,\n",
       "      1.6600000000000001,\n",
       "      1.8399999999999999,\n",
       "      2.0599999999999987,\n",
       "      2.1399999999999997,\n",
       "      2.1799999999999997,\n",
       "      2.26,\n",
       "      2.3799999999999955,\n",
       "      2.5,\n",
       "      2.54,\n",
       "      2.6400000000000006,\n",
       "      2.7,\n",
       "      2.879999999999999,\n",
       "      2.94,\n",
       "      3.1799999999999997,\n",
       "      3.4200000000000017,\n",
       "      3.6599999999999966,\n",
       "      3.7,\n",
       "      3.9400000000000013,\n",
       "      4.100000000000001,\n",
       "      4.180000000000007,\n",
       "      4.240000000000002,\n",
       "      4.240000000000002,\n",
       "      4.460000000000001,\n",
       "      4.6200000000000045,\n",
       "      4.740000000000002,\n",
       "      4.760000000000002,\n",
       "      4.84,\n",
       "      5.200000000000003,\n",
       "      5.280000000000001,\n",
       "      5.5,\n",
       "      5.699999999999999,\n",
       "      5.700000000000003,\n",
       "      6.340000000000003,\n",
       "      6.459999999999994,\n",
       "      6.600000000000001,\n",
       "      6.760000000000005,\n",
       "      6.859999999999999,\n",
       "      6.960000000000008,\n",
       "      7.0800000000000125,\n",
       "      7.34,\n",
       "      8.319999999999993,\n",
       "      8.480000000000004,\n",
       "      8.5,\n",
       "      8.6,\n",
       "      9.100000000000001,\n",
       "      9.340000000000003,\n",
       "      9.36,\n",
       "      10.060000000000002,\n",
       "      10.399999999999999,\n",
       "      10.54,\n",
       "      11.36,\n",
       "      12.159999999999997,\n",
       "      13.040000000000006,\n",
       "      15.079999999999998,\n",
       "      15.400000000000006,\n",
       "      15.819999999999993,\n",
       "      16.14,\n",
       "      16.78,\n",
       "      16.980000000000004,\n",
       "      17.120000000000005,\n",
       "      17.54,\n",
       "      17.560000000000002,\n",
       "      18.19999999999999,\n",
       "      18.42,\n",
       "      18.540000000000006,\n",
       "      19.16,\n",
       "      19.759999999999998,\n",
       "      22.180000000000007,\n",
       "      22.799999999999997,\n",
       "      22.959999999999994,\n",
       "      24.58,\n",
       "      25.480000000000004,\n",
       "      27.939999999999998,\n",
       "      33.36,\n",
       "      36.599999999999994,\n",
       "      36.86,\n",
       "      41.04],\n",
       "     'slope': 19.040822941391,\n",
       "     'intercept': -6.2653617021276595,\n",
       "     'r': 0.9387828452729401},\n",
       "    'error_bias': {'atemp': {'feature_type': 'num',\n",
       "      'current_majority': 0.23862340425531914,\n",
       "      'current_under': 0.2941916666666667,\n",
       "      'current_over': 0.2840833333333333,\n",
       "      'current_range': 3.7067595648453935,\n",
       "      'ref_majority': 0.2023933656957929,\n",
       "      'ref_under': 0.20186129032258063,\n",
       "      'ref_over': 0.223858064516129,\n",
       "      'ref_range': 4.839774300010642},\n",
       "     'hr': {'feature_type': 'num',\n",
       "      'current_majority': 11.646808510638298,\n",
       "      'current_under': 14.75,\n",
       "      'current_over': 13.416666666666666,\n",
       "      'current_range': 5.797101449275365,\n",
       "      'ref_majority': 11.894822006472491,\n",
       "      'ref_under': 13.580645161290322,\n",
       "      'ref_over': 14.161290322580646,\n",
       "      'ref_range': 2.524544179523147},\n",
       "     'hum': {'feature_type': 'num',\n",
       "      'current_majority': 0.6849787234042555,\n",
       "      'current_under': 0.62,\n",
       "      'current_over': 0.6975000000000001,\n",
       "      'current_range': 12.301587301587322,\n",
       "      'ref_majority': 0.5644983818770227,\n",
       "      'ref_under': 0.5596774193548387,\n",
       "      'ref_over': 0.7016129032258065,\n",
       "      'ref_range': 17.966516945692124},\n",
       "     'mnth': {'feature_type': 'num',\n",
       "      'current_majority': 1.702127659574468,\n",
       "      'current_under': 2.0,\n",
       "      'current_over': 1.8333333333333333,\n",
       "      'current_range': 16.666666666666675,\n",
       "      'ref_majority': 1.0,\n",
       "      'ref_under': 1.0,\n",
       "      'ref_over': 1.0,\n",
       "      'ref_range': 0.0},\n",
       "     'temp': {'feature_type': 'num',\n",
       "      'current_majority': 0.224,\n",
       "      'current_under': 0.2816666666666667,\n",
       "      'current_over': 0.2683333333333333,\n",
       "      'current_range': 5.555555555555569,\n",
       "      'ref_majority': 0.197378640776699,\n",
       "      'ref_under': 0.2006451612903226,\n",
       "      'ref_over': 0.22064516129032258,\n",
       "      'ref_range': 4.545454545454543},\n",
       "     'weekday': {'feature_type': 'num',\n",
       "      'current_majority': 2.7872340425531914,\n",
       "      'current_under': 1.5833333333333333,\n",
       "      'current_over': 1.5,\n",
       "      'current_range': 1.3888888888888875,\n",
       "      'ref_majority': 3.0032362459546924,\n",
       "      'ref_under': 3.2903225806451615,\n",
       "      'ref_over': 3.2580645161290325,\n",
       "      'ref_range': 0.5376344086021501},\n",
       "     'windspeed': {'feature_type': 'num',\n",
       "      'current_majority': 0.14805276595744682,\n",
       "      'current_under': 0.10200833333333333,\n",
       "      'current_over': 0.12564166666666662,\n",
       "      'current_range': 4.279850295786544,\n",
       "      'ref_majority': 0.20442087378640778,\n",
       "      'ref_under': 0.2055903225806451,\n",
       "      'ref_over': 0.21473870967741937,\n",
       "      'ref_range': 1.5716177798959394}}}},\n",
       "  {'metric': 'RegressionErrorPlot', 'result': {}},\n",
       "  {'metric': 'RegressionErrorDistribution', 'result': {}},\n",
       "  {'metric': 'DatasetDriftMetric',\n",
       "   'result': {'drift_share': 0.5,\n",
       "    'number_of_columns': 9,\n",
       "    'number_of_drifted_columns': 9,\n",
       "    'share_of_drifted_columns': 1.0,\n",
       "    'dataset_drift': True}},\n",
       "  {'metric': 'DataDriftTable',\n",
       "   'result': {'number_of_columns': 9,\n",
       "    'number_of_drifted_columns': 9,\n",
       "    'share_of_drifted_columns': 1.0,\n",
       "    'dataset_drift': True,\n",
       "    'drift_by_columns': {'cnt': {'column_name': 'cnt',\n",
       "      'column_type': 'num',\n",
       "      'stattest_name': 'Anderson test (p_value)',\n",
       "      'stattest_threshold': 0.9,\n",
       "      'drift_score': 0.25,\n",
       "      'drift_detected': True,\n",
       "      'current': {'small_distribution': {'x': [1.0,\n",
       "         23.9,\n",
       "         46.8,\n",
       "         69.69999999999999,\n",
       "         92.6,\n",
       "         115.5,\n",
       "         138.39999999999998,\n",
       "         161.29999999999998,\n",
       "         184.2,\n",
       "         207.1,\n",
       "         230.0],\n",
       "        'y': [0.012635882188980768,\n",
       "         0.006875406485180711,\n",
       "         0.009662733438632356,\n",
       "         0.005574653906903279,\n",
       "         0.0026015051565548633,\n",
       "         0.002229861562761314,\n",
       "         0.0013007525782774317,\n",
       "         0.0014865743751742077,\n",
       "         0.0007432871875871039,\n",
       "         0.0005574653906903279]}},\n",
       "      'reference': {'small_distribution': {'x': [1.0,\n",
       "         25.8,\n",
       "         50.6,\n",
       "         75.4,\n",
       "         100.2,\n",
       "         125.0,\n",
       "         149.8,\n",
       "         174.6,\n",
       "         199.4,\n",
       "         224.20000000000002,\n",
       "         249.0],\n",
       "        'y': [0.012918885061071092,\n",
       "         0.008090614886731391,\n",
       "         0.008025367992483557,\n",
       "         0.005350245328322372,\n",
       "         0.0021531475101785155,\n",
       "         0.0012396909907088417,\n",
       "         0.0010439503079653415,\n",
       "         0.0007829627309740053,\n",
       "         0.0005219751539826702,\n",
       "         0.00019574068274350154]}}},\n",
       "     'prediction': {'column_name': 'prediction',\n",
       "      'column_type': 'num',\n",
       "      'stattest_name': 'Anderson test (p_value)',\n",
       "      'stattest_threshold': 0.9,\n",
       "      'drift_score': 0.25,\n",
       "      'drift_detected': True,\n",
       "      'current': {'small_distribution': {'x': [1.28,\n",
       "         20.614,\n",
       "         39.948,\n",
       "         59.282,\n",
       "         78.616,\n",
       "         97.95,\n",
       "         117.28399999999999,\n",
       "         136.618,\n",
       "         155.952,\n",
       "         175.286,\n",
       "         194.62],\n",
       "        'y': [0.013645897757010582,\n",
       "         0.00858370987940988,\n",
       "         0.00792342450407066,\n",
       "         0.008803805004522953,\n",
       "         0.006602853753392215,\n",
       "         0.001320570750678444,\n",
       "         0.0017607610009045906,\n",
       "         0.0013205707506784429,\n",
       "         0.001100475625565369,\n",
       "         0.0006602853753392214]}},\n",
       "      'reference': {'small_distribution': {'x': [1.02,\n",
       "         23.046,\n",
       "         45.072,\n",
       "         67.098,\n",
       "         89.124,\n",
       "         111.14999999999999,\n",
       "         133.17600000000002,\n",
       "         155.202,\n",
       "         177.228,\n",
       "         199.25400000000002,\n",
       "         221.28],\n",
       "        'y': [0.01395820238335571,\n",
       "         0.0075668149762402005,\n",
       "         0.007860671868521376,\n",
       "         0.007346422307029323,\n",
       "         0.0037466753765849543,\n",
       "         0.0013223560152652765,\n",
       "         0.001101963346054399,\n",
       "         0.0012488917921949841,\n",
       "         0.0005877137845623454,\n",
       "         0.0006611780076326394]}}},\n",
       "     'atemp': {'column_name': 'atemp',\n",
       "      'column_type': 'num',\n",
       "      'stattest_name': 'Anderson test (p_value)',\n",
       "      'stattest_threshold': 0.9,\n",
       "      'drift_score': 0.001,\n",
       "      'drift_detected': True,\n",
       "      'current': {'small_distribution': {'x': [0.1212,\n",
       "         0.14847,\n",
       "         0.17574,\n",
       "         0.20301,\n",
       "         0.23027999999999998,\n",
       "         0.25754999999999995,\n",
       "         0.28481999999999996,\n",
       "         0.31209,\n",
       "         0.33936,\n",
       "         0.36662999999999996,\n",
       "         0.3939],\n",
       "        'y': [1.5604397319164547,\n",
       "         2.6527475442579704,\n",
       "         4.213187276174428,\n",
       "         11.235166069798474,\n",
       "         3.9010993297911405,\n",
       "         5.617583034899231,\n",
       "         3.2769234370245517,\n",
       "         2.028571651491389,\n",
       "         1.716483705108102,\n",
       "         0.46813191957493594]}},\n",
       "      'reference': {'small_distribution': {'x': [0.0,\n",
       "         0.045450000000000004,\n",
       "         0.09090000000000001,\n",
       "         0.13635000000000003,\n",
       "         0.18180000000000002,\n",
       "         0.22725,\n",
       "         0.27270000000000005,\n",
       "         0.31815000000000004,\n",
       "         0.36360000000000003,\n",
       "         0.40905,\n",
       "         0.4545],\n",
       "        'y': [0.3916249230101003,\n",
       "         1.2104770347584919,\n",
       "         2.064931412235074,\n",
       "         5.6251579850541695,\n",
       "         4.485885481752059,\n",
       "         5.411544390685018,\n",
       "         0.9612611746611556,\n",
       "         0.9256589089329647,\n",
       "         0.10680679718457287,\n",
       "         0.8188521117483918]}}},\n",
       "     'hr': {'column_name': 'hr',\n",
       "      'column_type': 'num',\n",
       "      'stattest_name': 'Anderson test (p_value)',\n",
       "      'stattest_threshold': 0.9,\n",
       "      'drift_score': 0.25,\n",
       "      'drift_detected': True,\n",
       "      'current': {'small_distribution': {'x': [0.0,\n",
       "         2.3,\n",
       "         4.6,\n",
       "         6.8999999999999995,\n",
       "         9.2,\n",
       "         11.5,\n",
       "         13.799999999999999,\n",
       "         16.099999999999998,\n",
       "         18.4,\n",
       "         20.7,\n",
       "         23.0],\n",
       "        'y': [0.05550416281221092,\n",
       "         0.03145235892691952,\n",
       "         0.03330249768732656,\n",
       "         0.05550416281221092,\n",
       "         0.037002775208140604,\n",
       "         0.03700277520814063,\n",
       "         0.05550416281221094,\n",
       "         0.037002775208140604,\n",
       "         0.037002775208140604,\n",
       "         0.0555041628122109]}},\n",
       "      'reference': {'small_distribution': {'x': [0.0,\n",
       "         2.3,\n",
       "         4.6,\n",
       "         6.8999999999999995,\n",
       "         9.2,\n",
       "         11.5,\n",
       "         13.799999999999999,\n",
       "         16.099999999999998,\n",
       "         18.4,\n",
       "         20.7,\n",
       "         23.0],\n",
       "        'y': [0.05346841142535529,\n",
       "         0.025327142254115663,\n",
       "         0.03517658646404953,\n",
       "         0.05487547488391727,\n",
       "         0.0365836499226115,\n",
       "         0.03799071338117351,\n",
       "         0.05768960180104126,\n",
       "         0.038694245110454474,\n",
       "         0.037990713381173484,\n",
       "         0.056986070071760216]}}},\n",
       "     'hum': {'column_name': 'hum',\n",
       "      'column_type': 'num',\n",
       "      'stattest_name': 'Anderson test (p_value)',\n",
       "      'stattest_threshold': 0.9,\n",
       "      'drift_score': 0.001,\n",
       "      'drift_detected': True,\n",
       "      'current': {'small_distribution': {'x': [0.37,\n",
       "         0.433,\n",
       "         0.496,\n",
       "         0.5589999999999999,\n",
       "         0.622,\n",
       "         0.685,\n",
       "         0.748,\n",
       "         0.8109999999999999,\n",
       "         0.874,\n",
       "         0.9369999999999999,\n",
       "         1.0],\n",
       "        'y': [1.0807159743329957,\n",
       "         1.3508949679162445,\n",
       "         1.2158054711246211,\n",
       "         2.904424181019923,\n",
       "         2.228976697061802,\n",
       "         1.4859844647078702,\n",
       "         1.621073961499495,\n",
       "         1.0131712259371823,\n",
       "         1.9587977034785562,\n",
       "         1.0131712259371823]}},\n",
       "      'reference': {'small_distribution': {'x': [0.21,\n",
       "         0.289,\n",
       "         0.368,\n",
       "         0.44699999999999995,\n",
       "         0.526,\n",
       "         0.605,\n",
       "         0.6839999999999999,\n",
       "         0.763,\n",
       "         0.842,\n",
       "         0.9209999999999999,\n",
       "         1.0],\n",
       "        'y': [0.32772110933595516,\n",
       "         0.8397853426733848,\n",
       "         2.294047765351687,\n",
       "         2.8675597066896046,\n",
       "         2.232600057351195,\n",
       "         0.7783376346728937,\n",
       "         1.3313670066773164,\n",
       "         0.5530293720044246,\n",
       "         0.6759247880054078,\n",
       "         0.7578550653393955]}}},\n",
       "     'mnth': {'column_name': 'mnth',\n",
       "      'column_type': 'num',\n",
       "      'stattest_name': 'Anderson test (p_value)',\n",
       "      'stattest_threshold': 0.9,\n",
       "      'drift_score': 0.001,\n",
       "      'drift_detected': True,\n",
       "      'current': {'small_distribution': {'x': [1.0,\n",
       "         1.1,\n",
       "         1.2,\n",
       "         1.3,\n",
       "         1.4,\n",
       "         1.5,\n",
       "         1.6,\n",
       "         1.7000000000000002,\n",
       "         1.8,\n",
       "         1.9,\n",
       "         2.0],\n",
       "        'y': [2.978723404255317,\n",
       "         0.0,\n",
       "         0.0,\n",
       "         0.0,\n",
       "         0.0,\n",
       "         0.0,\n",
       "         0.0,\n",
       "         0.0,\n",
       "         0.0,\n",
       "         7.021276595744675]}},\n",
       "      'reference': {'small_distribution': {'x': [0.5,\n",
       "         0.6,\n",
       "         0.7,\n",
       "         0.8,\n",
       "         0.9,\n",
       "         1.0,\n",
       "         1.1,\n",
       "         1.2000000000000002,\n",
       "         1.3,\n",
       "         1.4,\n",
       "         1.5],\n",
       "        'y': [0.0,\n",
       "         0.0,\n",
       "         0.0,\n",
       "         0.0,\n",
       "         0.0,\n",
       "         9.999999999999991,\n",
       "         0.0,\n",
       "         0.0,\n",
       "         0.0,\n",
       "         0.0]}}},\n",
       "     'temp': {'column_name': 'temp',\n",
       "      'column_type': 'num',\n",
       "      'stattest_name': 'Anderson test (p_value)',\n",
       "      'stattest_threshold': 0.9,\n",
       "      'drift_score': 0.001,\n",
       "      'drift_detected': True,\n",
       "      'current': {'small_distribution': {'x': [0.14,\n",
       "         0.164,\n",
       "         0.188,\n",
       "         0.21200000000000002,\n",
       "         0.23600000000000002,\n",
       "         0.26,\n",
       "         0.28400000000000003,\n",
       "         0.30800000000000005,\n",
       "         0.332,\n",
       "         0.356,\n",
       "         0.38],\n",
       "        'y': [9.39716312056738,\n",
       "         3.3687943262411357,\n",
       "         4.787234042553187,\n",
       "         7.4468085106382995,\n",
       "         5.673758865248229,\n",
       "         4.964539007092194,\n",
       "         1.9503546099290763,\n",
       "         1.063829787234044,\n",
       "         1.595744680851066,\n",
       "         1.4184397163120555]}},\n",
       "      'reference': {'small_distribution': {'x': [0.02,\n",
       "         0.064,\n",
       "         0.108,\n",
       "         0.152,\n",
       "         0.19599999999999998,\n",
       "         0.23999999999999996,\n",
       "         0.28400000000000003,\n",
       "         0.328,\n",
       "         0.372,\n",
       "         0.416,\n",
       "         0.46],\n",
       "        'y': [1.2871432774345397,\n",
       "         1.140041188584878,\n",
       "         3.1259193880553107,\n",
       "         5.0750220653133296,\n",
       "         6.251838776110623,\n",
       "         3.236245954692552,\n",
       "         1.1768167107972938,\n",
       "         0.47808178876140056,\n",
       "         0.4045307443365697,\n",
       "         0.5516328331862307]}}},\n",
       "     'weekday': {'column_name': 'weekday',\n",
       "      'column_type': 'num',\n",
       "      'stattest_name': 'Anderson test (p_value)',\n",
       "      'stattest_threshold': 0.9,\n",
       "      'drift_score': 0.023977043903288815,\n",
       "      'drift_detected': True,\n",
       "      'current': {'small_distribution': {'x': [0.0,\n",
       "         0.6,\n",
       "         1.2,\n",
       "         1.7999999999999998,\n",
       "         2.4,\n",
       "         3.0,\n",
       "         3.5999999999999996,\n",
       "         4.2,\n",
       "         4.8,\n",
       "         5.3999999999999995,\n",
       "         6.0],\n",
       "        'y': [0.33333333333333337,\n",
       "         0.3404255319148936,\n",
       "         0.0,\n",
       "         0.1631205673758865,\n",
       "         0.0,\n",
       "         0.1702127659574469,\n",
       "         0.16312056737588637,\n",
       "         0.0,\n",
       "         0.16312056737588662,\n",
       "         0.33333333333333304]}},\n",
       "      'reference': {'small_distribution': {'x': [0.0,\n",
       "         0.6,\n",
       "         1.2,\n",
       "         1.7999999999999998,\n",
       "         2.4,\n",
       "         3.0,\n",
       "         3.5999999999999996,\n",
       "         4.2,\n",
       "         4.8,\n",
       "         5.3999999999999995,\n",
       "         6.0],\n",
       "        'y': [0.2535059331175836,\n",
       "         0.25080906148867316,\n",
       "         0.0,\n",
       "         0.2157497303128371,\n",
       "         0.0,\n",
       "         0.2265372168284791,\n",
       "         0.21305285868392645,\n",
       "         0.0,\n",
       "         0.25080906148867327,\n",
       "         0.2562028047464939]}}},\n",
       "     'windspeed': {'column_name': 'windspeed',\n",
       "      'column_type': 'num',\n",
       "      'stattest_name': 'Anderson test (p_value)',\n",
       "      'stattest_threshold': 0.9,\n",
       "      'drift_score': 0.001,\n",
       "      'drift_detected': True,\n",
       "      'current': {'small_distribution': {'x': [0.0,\n",
       "         0.055220000000000005,\n",
       "         0.11044000000000001,\n",
       "         0.16566000000000003,\n",
       "         0.22088000000000002,\n",
       "         0.2761,\n",
       "         0.33132000000000006,\n",
       "         0.38654000000000005,\n",
       "         0.44176000000000004,\n",
       "         0.49698000000000003,\n",
       "         0.5522],\n",
       "        'y': [4.315426880485793,\n",
       "         4.007182103308237,\n",
       "         4.007182103308236,\n",
       "         1.3100403030046162,\n",
       "         1.6953462744765622,\n",
       "         1.3100403030046148,\n",
       "         0.38530597147194595,\n",
       "         0.3082447771775567,\n",
       "         0.46236716576633513,\n",
       "         0.3082447771775567]}},\n",
       "      'reference': {'small_distribution': {'x': [0.0,\n",
       "         0.05821,\n",
       "         0.11642,\n",
       "         0.17463,\n",
       "         0.23284,\n",
       "         0.29105,\n",
       "         0.34926,\n",
       "         0.40747,\n",
       "         0.46568,\n",
       "         0.52389,\n",
       "         0.5821],\n",
       "        'y': [1.7512755123314816,\n",
       "         2.6686103045051146,\n",
       "         3.3913589286419157,\n",
       "         2.8353984485366848,\n",
       "         2.6686103045051155,\n",
       "         1.7512755123314803,\n",
       "         1.0285268881946799,\n",
       "         0.8339407201578486,\n",
       "         0.1389901200263081,\n",
       "         0.11119209602104647]}}}}}}],\n",
       " 'timestamp': '2023-11-20 21:24:38.519651'}"
      ]
     },
     "execution_count": 33,
     "metadata": {},
     "output_type": "execute_result"
    }
   ],
   "source": [
    "logged_json"
   ]
  },
  {
   "cell_type": "code",
   "execution_count": 34,
   "metadata": {
    "id": "cyVps9-Q-ZoB"
   },
   "outputs": [
    {
     "data": {
      "text/plain": [
       "['RegressionQualityMetric',\n",
       " 'RegressionErrorPlot',\n",
       " 'RegressionErrorDistribution',\n",
       " 'DatasetDriftMetric',\n",
       " 'DataDriftTable']"
      ]
     },
     "execution_count": 34,
     "metadata": {},
     "output_type": "execute_result"
    }
   ],
   "source": [
    "[x['metric'] for x in logged_json['metrics']]"
   ]
  },
  {
   "cell_type": "code",
   "execution_count": 35,
   "metadata": {
    "id": "yc0HhabLxYVj"
   },
   "outputs": [
    {
     "data": {
      "text/plain": [
       "-6.26536170212766"
      ]
     },
     "execution_count": 35,
     "metadata": {},
     "output_type": "execute_result"
    }
   ],
   "source": [
    "logged_json['metrics'][0]['result']['current']['mean_error']"
   ]
  },
  {
   "cell_type": "code",
   "execution_count": 36,
   "metadata": {
    "id": "SolMtKPjyHw5"
   },
   "outputs": [
    {
     "data": {
      "text/plain": [
       "0.5"
      ]
     },
     "execution_count": 36,
     "metadata": {},
     "output_type": "execute_result"
    }
   ],
   "source": [
    "logged_json['metrics'][3]['result']['drift_share']"
   ]
  },
  {
   "cell_type": "code",
   "execution_count": 37,
   "metadata": {
    "id": "bTHU8eAqwgez",
    "pycharm": {
     "name": "#%%\n"
    }
   },
   "outputs": [
    {
     "name": "stderr",
     "output_type": "stream",
     "text": [
      "2023/11/20 21:24:46 INFO mlflow.tracking.fluent: Experiment with name 'Model Quality Evaluation' does not exist. Creating a new experiment.\n"
     ]
    },
    {
     "name": "stdout",
     "output_type": "stream",
     "text": [
      "<RunInfo: artifact_uri='file:///Users/migumax/Documents/My_projects/Udemy/MLOps/updates/202311/practice_python/notebooks/mlruns/866644469432695052/d71385f94a3a419db7c21f9bcc5cd546/artifacts', end_time=None, experiment_id='866644469432695052', lifecycle_stage='active', run_id='d71385f94a3a419db7c21f9bcc5cd546', run_name='marvelous-crab-982', run_uuid='d71385f94a3a419db7c21f9bcc5cd546', start_time=1700511886432, status='RUNNING', user_id='migumax'>\n",
      "<RunInfo: artifact_uri='file:///Users/migumax/Documents/My_projects/Udemy/MLOps/updates/202311/practice_python/notebooks/mlruns/866644469432695052/4801070947e542db93557e6895be8726/artifacts', end_time=None, experiment_id='866644469432695052', lifecycle_stage='active', run_id='4801070947e542db93557e6895be8726', run_name='dashing-smelt-445', run_uuid='4801070947e542db93557e6895be8726', start_time=1700511886603, status='RUNNING', user_id='migumax'>\n",
      "<RunInfo: artifact_uri='file:///Users/migumax/Documents/My_projects/Udemy/MLOps/updates/202311/practice_python/notebooks/mlruns/866644469432695052/9aefaf7aa5d24183b6b06aea756b0116/artifacts', end_time=None, experiment_id='866644469432695052', lifecycle_stage='active', run_id='9aefaf7aa5d24183b6b06aea756b0116', run_name='nimble-dove-866', run_uuid='9aefaf7aa5d24183b6b06aea756b0116', start_time=1700511886770, status='RUNNING', user_id='migumax'>\n"
     ]
    }
   ],
   "source": [
    "#log into MLflow\n",
    "client = MlflowClient()\n",
    "\n",
    "#set experiment\n",
    "mlflow.set_experiment('Model Quality Evaluation')\n",
    "\n",
    "#start new run\n",
    "for date in experiment_batches:\n",
    "    with mlflow.start_run() as run: #inside brackets run_name='test'\n",
    "        \n",
    "        # Log parameters\n",
    "        mlflow.log_param(\"begin\", date[0])\n",
    "        mlflow.log_param(\"end\", date[1])\n",
    "\n",
    "        # Get metrics\n",
    "        the_report = Report(metrics=[\n",
    "            RegressionQualityMetric(),\n",
    "            RegressionErrorPlot(),\n",
    "            RegressionErrorDistribution(),\n",
    "            DataDriftPreset(stattest=anderson_stat_test, stattest_threshold=0.9),\n",
    "        ])\n",
    "        the_report.run(\n",
    "            reference_data=reference, \n",
    "            current_data=current.loc[date[0]:date[1]],\n",
    "            column_mapping=column_mapping_drift)\n",
    "        logged_json = json.loads(the_report.json())\n",
    "        \n",
    "        me = logged_json['metrics'][0]['result']['current']['mean_error']\n",
    "        mae = logged_json['metrics'][0]['result']['current'][\"mean_abs_error\"]\n",
    "        drift_share = logged_json['metrics'][3]['result']['drift_share']\n",
    "        \n",
    "        # Log metrics\n",
    "        mlflow.log_metric('me', round(me, 3))\n",
    "        mlflow.log_metric('mae', round(mae, 3))\n",
    "        mlflow.log_metric('drift_share', round(drift_share, 3))\n",
    "\n",
    "        print(run.info)"
   ]
  },
  {
   "cell_type": "code",
   "execution_count": null,
   "metadata": {
    "id": "IUYxYN5nwgez",
    "pycharm": {
     "name": "#%%\n"
    }
   },
   "outputs": [],
   "source": [
    "#run MLflow UI (NOT recommended! It will be more convinient to run it directly from the TERMINAL)\n",
    "# !mlflow ui"
   ]
  },
  {
   "cell_type": "code",
   "execution_count": null,
   "metadata": {},
   "outputs": [],
   "source": []
  }
 ],
 "metadata": {
  "colab": {
   "provenance": []
  },
  "kernelspec": {
   "display_name": "Python 3 (ipykernel)",
   "language": "python",
   "name": "python3"
  },
  "language_info": {
   "codemirror_mode": {
    "name": "ipython",
    "version": 3
   },
   "file_extension": ".py",
   "mimetype": "text/x-python",
   "name": "python",
   "nbconvert_exporter": "python",
   "pygments_lexer": "ipython3",
   "version": "3.10.13"
  },
  "toc": {
   "base_numbering": 1,
   "nav_menu": {},
   "number_sections": true,
   "sideBar": true,
   "skip_h1_title": false,
   "title_cell": "Table of Contents",
   "title_sidebar": "Contents",
   "toc_cell": false,
   "toc_position": {},
   "toc_section_display": true,
   "toc_window_display": false
  }
 },
 "nbformat": 4,
 "nbformat_minor": 2
}
